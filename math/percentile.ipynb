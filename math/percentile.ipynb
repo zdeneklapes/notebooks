{
 "cells": [
  {
   "cell_type": "markdown",
   "source": [
    "## Math\n",
    "\n",
    "Sort the scores in ascending order:\n",
    "$1, 2, 3, 4, 5, 5, 8, 8, 8, 8$\n",
    "\n",
    "Calculate the rank (or position) of the percentile you want to find.\n",
    "For example, if you want to find the 50th percentile, which represents the median or the score at the 50th percentile, the rank would be:\n",
    "\n",
    "$$\n",
    "Rank = (Percentile / 100) x (Number of participants + 1)\n",
    "Rank = (50 / 100) x (10 + 1) = 5.5\n",
    "$$\n",
    "\n",
    "Identify the two data points that bracket the calculated rank.\n",
    "In this case, the calculated rank is between the 5th and 6th data points, which are 5 and 8.\n",
    "\n",
    "Interpolate to find the percentile.\n",
    "Since the rank is not an integer, we can use linear interpolation to estimate the percentile.\n",
    "Linear interpolation involves taking a weighted average of the two data points that bracket the rank, based on the fractional part of the rank.\n",
    "\n",
    "$$\n",
    "Percentile = (Value at lower rank) + (Fractional part of rank) \\cdot (Difference between upper and lower values)\\\\\n",
    "Percentile = 5 + 0.5 x (8 - 5) = 5 + 0.5 \\cdot 3 = 5 + 1.5 = 6.5                                                \\\\\n",
    "$$\n",
    "\n",
    "So, the 50th percentile (or the median) for the given data is 6.5, which means that 50% of the participants scored below 6.5 points."
   ],
   "metadata": {
    "collapsed": false
   }
  },
  {
   "cell_type": "markdown",
   "source": [],
   "metadata": {
    "collapsed": false
   }
  },
  {
   "cell_type": "markdown",
   "source": [],
   "metadata": {
    "collapsed": false
   }
  },
  {
   "cell_type": "markdown",
   "source": [],
   "metadata": {
    "collapsed": false
   }
  },
  {
   "cell_type": "markdown",
   "source": [],
   "metadata": {
    "collapsed": false
   }
  },
  {
   "cell_type": "code",
   "execution_count": 173,
   "outputs": [],
   "source": [
    "import numpy as np\n",
    "from utils import pa"
   ],
   "metadata": {
    "collapsed": false
   }
  },
  {
   "cell_type": "code",
   "execution_count": 174,
   "outputs": [],
   "source": [
    "def pecentile_from_list(scores: list, percentile: float):\n",
    "    percentile_value = np.percentile(scores, percentile)\n",
    "    nearest_number = min(scores, key=lambda x: abs(x - percentile_value))\n",
    "    return nearest_number"
   ],
   "metadata": {
    "collapsed": false
   }
  },
  {
   "cell_type": "code",
   "execution_count": 202,
   "outputs": [
    {
     "name": "stdout",
     "output_type": "stream",
     "text": [
      "Array: [1 2 3 4 5]\n",
      "Percentiles: [12, 13, 37, 38, 62, 63, 87, 88]\n",
      "Index: 0\t Percetile: 12\t Value: 1\t Diff: 0\n",
      "Index: 1\t Percetile: 13\t Value: 2\t Diff: 0\n",
      "Index: 2\t Percetile: 37\t Value: 2\t Diff: 0\n",
      "Index: 3\t Percetile: 38\t Value: 3\t Diff: 0\n",
      "Index: 4\t Percetile: 62\t Value: 3\t Diff: 0\n",
      "Index: 5\t Percetile: 63\t Value: 4\t Diff: 0\n",
      "Index: 6\t Percetile: 87\t Value: 4\t Diff: 0\n",
      "Index: 7\t Percetile: 88\t Value: 5\t Diff: 0\n"
     ]
    }
   ],
   "source": [
    "def foo():\n",
    "    a = np.array([1, 2, 3, 4, 5])\n",
    "    print(f\"Array: {a}\")\n",
    "    percentiles = [12, 13, 37, 38, 62, 63, 87, 88]\n",
    "    print(f\"Percentiles: {percentiles}\")\n",
    "    for i, p in enumerate(percentiles):\n",
    "        e1 = pecentile_from_list(a, p)\n",
    "        print(f\"\"\"Index: {i}\\t Percetile: {p}\\t Value: {e1}\\t Diff: {p - percentiles[i]}\"\"\")\n",
    "foo()"
   ],
   "metadata": {
    "collapsed": false
   }
  },
  {
   "cell_type": "code",
   "execution_count": null,
   "outputs": [],
   "source": [],
   "metadata": {
    "collapsed": false
   }
  }
 ],
 "metadata": {
  "kernelspec": {
   "display_name": "Python 3",
   "language": "python",
   "name": "python3"
  },
  "language_info": {
   "codemirror_mode": {
    "name": "ipython",
    "version": 2
   },
   "file_extension": ".py",
   "mimetype": "text/x-python",
   "name": "python",
   "nbconvert_exporter": "python",
   "pygments_lexer": "ipython2",
   "version": "2.7.6"
  }
 },
 "nbformat": 4,
 "nbformat_minor": 0
}
